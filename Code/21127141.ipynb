{
 "cells": [
  {
   "attachments": {},
   "cell_type": "markdown",
   "metadata": {},
   "source": [
    "# <center>IMAGE PROCESSING PROJECT</center>"
   ]
  },
  {
   "attachments": {},
   "cell_type": "markdown",
   "metadata": {},
   "source": [
    "##### <CENTER> 21127141 - BÙI ĐỖ DUY QUÂN </CENTER>"
   ]
  },
  {
   "attachments": {},
   "cell_type": "markdown",
   "metadata": {},
   "source": [
    "## 1.Import libraries"
   ]
  },
  {
   "cell_type": "code",
   "execution_count": 288,
   "metadata": {},
   "outputs": [],
   "source": [
    "import numpy as np\n",
    "from PIL import Image\n",
    "import matplotlib.pyplot as plt"
   ]
  },
  {
   "attachments": {},
   "cell_type": "markdown",
   "metadata": {},
   "source": [
    "## 2. Support functions"
   ]
  },
  {
   "attachments": {},
   "cell_type": "markdown",
   "metadata": {},
   "source": [
    "### a. Read and show image"
   ]
  },
  {
   "cell_type": "code",
   "execution_count": 289,
   "metadata": {},
   "outputs": [],
   "source": [
    "#input: filename\n",
    "#output: np.array of image, filename without extension\n",
    "def read_Image(filename):\n",
    "    return np.array(Image.open(filename)), filename[:filename.index('.')]\n",
    "\n",
    "#input: np.array of image\n",
    "#output: no => show image\n",
    "def show_Image(image):\n",
    "    plt.imshow(image)\n",
    "    plt.show()\n",
    "\n",
    "#input: np.array of 2 images\n",
    "#output: no => show images side by side\n",
    "def show_Image_side_by_side(image1, image2):\n",
    "\n",
    "    fig, axes = plt.subplots(1, 2, figsize=(20, 10))\n",
    "\n",
    "\n",
    "    axes[0].imshow(image1)\n",
    "    axes[0].axis('off')\n",
    "    axes[0].set_title('Original Image', fontsize=16)\n",
    "\n",
    "    axes[1].imshow(image2)\n",
    "    axes[1].axis('off')\n",
    "    axes[1].set_title('Result', fontsize=16)\n",
    "\n",
    "    plt.subplots_adjust(wspace=0.05)\n",
    "    plt.show()"
   ]
  },
  {
   "attachments": {},
   "cell_type": "markdown",
   "metadata": {},
   "source": [
    "## b. Check value of color"
   ]
  },
  {
   "cell_type": "code",
   "execution_count": 290,
   "metadata": {},
   "outputs": [],
   "source": [
    "#input: np.array of image\n",
    "#output: np.array of image that limited between 0 and 255\n",
    "def truncate(image):\n",
    "    return np.clip(image, 0, 255)"
   ]
  },
  {
   "attachments": {},
   "cell_type": "markdown",
   "metadata": {},
   "source": [
    "## c. Menu functions"
   ]
  },
  {
   "cell_type": "code",
   "execution_count": 291,
   "metadata": {},
   "outputs": [],
   "source": [
    "#input: list of features\n",
    "#output: option that user choose\n",
    "def Menu(Feature_Name):\n",
    "    print(\"Choose your option (0-10):\")\n",
    "    print(\"0 All\")\n",
    "    for i, name in enumerate(Feature_Name):\n",
    "        print(i+1, name)\n",
    "\n",
    "    option = int(input(\"Your option: \"))\n",
    "    \n",
    "    if option == 0:\n",
    "        print(\"\\nYour option is: All\")\n",
    "    else:\n",
    "        print(\"\\nYour option is:\", Feature_Name[option-1])\n",
    "    return option"
   ]
  },
  {
   "attachments": {},
   "cell_type": "markdown",
   "metadata": {},
   "source": [
    "## d. Image processing"
   ]
  },
  {
   "cell_type": "code",
   "execution_count": 292,
   "metadata": {},
   "outputs": [],
   "source": [
    "#input: np.array of image, feature\n",
    "#output: np.array of original image, result of feature \n",
    "def process(Feature):\n",
    "    return Feature"
   ]
  },
  {
   "attachments": {},
   "cell_type": "markdown",
   "metadata": {},
   "source": [
    "## e. Save image"
   ]
  },
  {
   "cell_type": "code",
   "execution_count": 293,
   "metadata": {},
   "outputs": [],
   "source": [
    "#input: np.array of image, feature name\n",
    "#output: no => save image\n",
    "def save_Image(image, filename, Feature):\n",
    "    Image.fromarray(image.astype('uint8')).save(filename + \"_\" + Feature + \".png\")"
   ]
  },
  {
   "attachments": {},
   "cell_type": "markdown",
   "metadata": {},
   "source": [
    "# 3. Feature functions"
   ]
  },
  {
   "attachments": {},
   "cell_type": "markdown",
   "metadata": {},
   "source": [
    "## a. Brightness image"
   ]
  },
  {
   "cell_type": "code",
   "execution_count": 294,
   "metadata": {},
   "outputs": [],
   "source": [
    "#input:  np.array of image, the level of brightness(int)\n",
    "#output: np.array of image that brightness is changed\n",
    "def bright_Image(image, brightness=50):\n",
    "    return truncate(image.astype('int16') + brightness).astype('uint8')"
   ]
  },
  {
   "attachments": {},
   "cell_type": "markdown",
   "metadata": {},
   "source": [
    "## b. Contrast image"
   ]
  },
  {
   "cell_type": "code",
   "execution_count": 295,
   "metadata": {},
   "outputs": [],
   "source": [
    "#input:  np.array of image, the level of contrast(int)\n",
    "#output: np.array of image that contrast is changed\n",
    "def contrast_Image(image, ContrastValue=50):\n",
    "    factor = (259 * (ContrastValue + 255)) / (255 * (259 - ContrastValue))\n",
    "    image_contrast = factor * (image.astype('int16') - 128) + 128\n",
    "    return truncate(image_contrast.astype('int16')).astype('uint8')"
   ]
  },
  {
   "attachments": {},
   "cell_type": "markdown",
   "metadata": {},
   "source": [
    "## c. Flip image"
   ]
  },
  {
   "cell_type": "code",
   "execution_count": 296,
   "metadata": {},
   "outputs": [],
   "source": [
    "#input: np.array of image, the axis of rotation(int)\n",
    "#output:np.array of image that rotated\n",
    "def flip_Image(image, dir=0):\n",
    "    return image[::-1] if dir == 0 else image[:, ::-1]"
   ]
  },
  {
   "attachments": {},
   "cell_type": "markdown",
   "metadata": {},
   "source": [
    "## d. Convert gray image"
   ]
  },
  {
   "cell_type": "code",
   "execution_count": 297,
   "metadata": {},
   "outputs": [],
   "source": [
    "#input: np.array of image\n",
    "#output: np.array of image that converted to gray\n",
    "def convert_To_Gray(image):\n",
    "   coefficient = np.array([[.299, .587, .114]])\n",
    "   gray = (image * coefficient[None, :]).sum(axis=-1).astype('uint8')\n",
    "   return np.repeat(gray[:, :, None], 3, axis=-1)"
   ]
  },
  {
   "attachments": {},
   "cell_type": "markdown",
   "metadata": {},
   "source": [
    "## e. Convert sepia image"
   ]
  },
  {
   "cell_type": "code",
   "execution_count": 298,
   "metadata": {},
   "outputs": [],
   "source": [
    "#input: np.array of image\n",
    "#output: np.array of image that converted to sepia\n",
    "def convert_To_Sepia(img):\n",
    "    sepia_filter = np.array([[.393, .769, .189],\n",
    "                             [.349, .686, .168],\n",
    "                             [.272, .534, .131]])\n",
    "    sepia_img = img @ sepia_filter.T\n",
    "    return truncate(sepia_img.astype('int16')).astype('uint8')\n"
   ]
  },
  {
   "attachments": {},
   "cell_type": "markdown",
   "metadata": {},
   "source": [
    "## f. Convert blur image"
   ]
  },
  {
   "cell_type": "code",
   "execution_count": 299,
   "metadata": {},
   "outputs": [],
   "source": [
    "#input: np.array of image\n",
    "#output: np.array of imagethat converted to blur\n",
    "def convert_To_Blur(image):\n",
    "    kernel = np.array([[1, 2, 1], [2, 4, 2], [1, 2, 1]]) / 16\n",
    "    blur = np.array(image)\n",
    "    for i in range(1, image.shape[0]-1):\n",
    "        for j in range(1, image.shape[1]-1):\n",
    "            blur[i][j] = np.sum(image[i-1:i+2, j-1:j+2,:].astype(np.float64) * kernel[:, :, None], axis=(0, 1))\n",
    "    return blur.astype('uint8')"
   ]
  },
  {
   "attachments": {},
   "cell_type": "markdown",
   "metadata": {},
   "source": [
    "## g. Convert sharpen image"
   ]
  },
  {
   "cell_type": "code",
   "execution_count": 300,
   "metadata": {},
   "outputs": [],
   "source": [
    "#input: np.array of image\n",
    "#output: np.array of image that converted to sharpen\n",
    "def convert_To_Sharpen(image):\n",
    "    kernel = np.array([[0, -1, 0], [-1, 5, -1], [0, -1, 0]])\n",
    "    Sharpen = np.array(image).astype(np.float64)\n",
    "    for i in range(1, image.shape[0]-1):\n",
    "        for j in range(1, image.shape[1]-1):\n",
    "            Sharpen[i][j] = np.sum(image[i-1:i+2, j-1:j+2,:].astype(np.float64)* kernel[:, :, None], axis=(0, 1))\n",
    "    return truncate(Sharpen).astype(np.uint8)"
   ]
  },
  {
   "attachments": {},
   "cell_type": "markdown",
   "metadata": {},
   "source": [
    "## h. Cut image from center"
   ]
  },
  {
   "cell_type": "code",
   "execution_count": 301,
   "metadata": {},
   "outputs": [],
   "source": [
    "#input: np.array of image, width, height (int)\n",
    "#output: np.array of image that cut from center\n",
    "def cut_From_Center(image, h=256, w=256):\n",
    "    return image[image.shape[0]//2 - h//2:image.shape[0]//2 + h//2, image.shape[1]//2 - w//2:image.shape[1]//2 + w//2]"
   ]
  },
  {
   "attachments": {},
   "cell_type": "markdown",
   "metadata": {},
   "source": [
    "## i. Cut image to circle frame"
   ]
  },
  {
   "cell_type": "code",
   "execution_count": 302,
   "metadata": {},
   "outputs": [],
   "source": [
    "#input: np.array of image\n",
    "#output: matrix of image that cut circle frame\n",
    "def cut_Circle_frame(img):  \n",
    "    new_img = np.array(img)\n",
    "    for x in range(new_img.shape[0]):\n",
    "        for y in range(new_img.shape[1]):\n",
    "            if (x - new_img.shape[0]//2)**2 + (y - new_img.shape[1]//2)**2 > (new_img.shape[0]//2)**2:\n",
    "                new_img[x][y] = 0\n",
    "    return new_img"
   ]
  },
  {
   "attachments": {},
   "cell_type": "markdown",
   "metadata": {},
   "source": [
    "## k. Cut image to 2-ellipse frame"
   ]
  },
  {
   "cell_type": "code",
   "execution_count": 303,
   "metadata": {},
   "outputs": [],
   "source": [
    "#input: np.array of image\n",
    "#output: matrix of image that cut ellipse frame\n",
    "def cut_2Ellipses_Frame(image):\n",
    "    center_x = image.shape[0]//2\n",
    "    center_y = image.shape[1]//2\n",
    "    new_img = np.array(image)\n",
    "    A = image.shape[1]//4\n",
    "    B = image.shape[1] - A\n",
    "    for x in range(image.shape[0]):\n",
    "        for y in range(image.shape[1]):\n",
    "            new_x = x - center_x\n",
    "            new_y = y - center_y\n",
    "            if (new_x+new_y)**2 / A + (new_x-new_y)**2 / B > image.shape[1] and ((new_x+new_y)**2 / B + (new_x-new_y)**2 / A  > image.shape[1]):\n",
    "                new_img[x][y] = 0\n",
    "    return new_img\n"
   ]
  },
  {
   "attachments": {},
   "cell_type": "markdown",
   "metadata": {},
   "source": [
    "## 4. Main function"
   ]
  },
  {
   "cell_type": "code",
   "execution_count": 304,
   "metadata": {},
   "outputs": [],
   "source": [
    "def main():\n",
    "    image, name = read_Image((input(\"Enter image name: \")))\n",
    "\n",
    "    image = np.array(Image.open(\"image.png\"))\n",
    "    name = \"image\"\n",
    "    Features_Name = [\"bright\", \"contrast\", \"flipVertical\", \"flipHorizontal\", \"gray\", \"sepia\", \"blur\", \"sharpen\", \"center\", \"circle\", \"ellipses\"]\n",
    "    Features_Functions = [bright_Image(image), contrast_Image(image), flip_Image(image, 0), flip_Image(image, 1), convert_To_Gray(image), convert_To_Sepia(image), convert_To_Blur(image), convert_To_Sharpen(image), cut_From_Center(image), cut_Circle_frame(image), cut_2Ellipses_Frame(image)]\n",
    "\n",
    "    option = Menu(Features_Name)\n",
    "\n",
    "    if option == 0:\n",
    "        for Features, NameFeatures in zip(Features_Functions, Features_Name):\n",
    "            Result = process(Features)\n",
    "            save_Image(Result, name, NameFeatures)\n",
    "    else:\n",
    "        Result = process(Features_Functions[option-1])\n",
    "        save_Image(Result, name, Features_Name[option-1])\n",
    "        show_Image_side_by_side(image, Result)"
   ]
  },
  {
   "cell_type": "code",
   "execution_count": null,
   "metadata": {},
   "outputs": [],
   "source": [
    "if __name__ == '__main__':\n",
    "    main()"
   ]
  }
 ],
 "metadata": {
  "kernelspec": {
   "display_name": "Python 3",
   "language": "python",
   "name": "python3"
  },
  "language_info": {
   "codemirror_mode": {
    "name": "ipython",
    "version": 3
   },
   "file_extension": ".py",
   "mimetype": "text/x-python",
   "name": "python",
   "nbconvert_exporter": "python",
   "pygments_lexer": "ipython3",
   "version": "3.11.3"
  },
  "orig_nbformat": 4
 },
 "nbformat": 4,
 "nbformat_minor": 2
}
