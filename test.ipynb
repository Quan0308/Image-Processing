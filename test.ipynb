{
 "cells": [
  {
   "cell_type": "code",
   "execution_count": 1,
   "metadata": {},
   "outputs": [],
   "source": [
    "import numpy as np"
   ]
  },
  {
   "cell_type": "code",
   "execution_count": 2,
   "metadata": {},
   "outputs": [
    {
     "name": "stdout",
     "output_type": "stream",
     "text": [
      "[[10 11 12]\n",
      " [40 41 42]\n",
      " [ 7 17 27]]\n"
     ]
    }
   ],
   "source": [
    "image = np.array([[[10, 20, 30], [11, 21, 31], [12, 22, 32]], [[40, 50, 60], [41, 51, 61], [42, 52, 62]], [[7, 8, 9], [17, 18, 19], [27, 28, 29]]])\n",
    "kernel = np.array([[1, 2, 1], [2, 4, 2], [1, 2, 1]])\n",
    "i = 1\n",
    "j = 1\n",
    "# matrix = image[i-1:i+2, j-1:j+2,:]\n",
    "# blur = np.array(image)\n",
    "# for i in range(1, image.shape[0]-1):\n",
    "#     for j in range(1, image.shape[1]-1):\n",
    "#         blur[i][j] = np.sum(image[i-1:i+2, j-1:j+2,:] * kernel[:, :, None], axis=(0, 1))\n",
    "\n",
    "# # print(matrix)\n",
    "# # print(np.sum(matrix, axis=0))\n",
    "# print(matrix * kernel[:, :, None])\n",
    "# sum = np.sum(matrix * kernel[:, :, None], axis=(0, 1))\n",
    "print(image[:, :, 0])"
   ]
  },
  {
   "cell_type": "code",
   "execution_count": 3,
   "metadata": {},
   "outputs": [
    {
     "name": "stdout",
     "output_type": "stream",
     "text": [
      "[[[ 1  2  3]\n",
      "  [ 4  5  6]\n",
      "  [ 7  8  9]]\n",
      "\n",
      " [[10 11 12]\n",
      "  [13 14 15]\n",
      "  [16 17 18]]\n",
      "\n",
      " [[19 20 21]\n",
      "  [22 23 24]\n",
      "  [25 26 27]]]\n",
      "(512, 1)\n"
     ]
    }
   ],
   "source": [
    "image = np.array(range(1, 28)).reshape(3, 3, 3)\n",
    "y ,x = np.ogrid[:512, :512]\n",
    "print(image)\n",
    "print(y.shape)"
   ]
  },
  {
   "cell_type": "code",
   "execution_count": 8,
   "metadata": {},
   "outputs": [
    {
     "name": "stdout",
     "output_type": "stream",
     "text": [
      "[0. 0.]\n"
     ]
    }
   ],
   "source": [
    "coeff = [4, 0, 0]\n",
    "print(np.roots(coeff))\n"
   ]
  }
 ],
 "metadata": {
  "kernelspec": {
   "display_name": "Python 3",
   "language": "python",
   "name": "python3"
  },
  "language_info": {
   "codemirror_mode": {
    "name": "ipython",
    "version": 3
   },
   "file_extension": ".py",
   "mimetype": "text/x-python",
   "name": "python",
   "nbconvert_exporter": "python",
   "pygments_lexer": "ipython3",
   "version": "3.11.3"
  },
  "orig_nbformat": 4
 },
 "nbformat": 4,
 "nbformat_minor": 2
}
